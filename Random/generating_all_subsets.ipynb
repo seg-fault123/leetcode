{
 "cells": [
  {
   "cell_type": "code",
   "execution_count": null,
   "id": "28690d9b",
   "metadata": {},
   "outputs": [],
   "source": [
    "## can visualize like a tree\n",
    "# [1,2,3]\n",
    "#                           .\n",
    "#               [1]                      []              # decides if 1 has to be included or not\n",
    "#   [1, 2]              [1]        [2]            []        # decides if 2 has to be included or not\n",
    "# [1,2,3]  [1, 2]    [1, 3] [1]  [2, 3] [2]     [3] []      # decides if 3 has to be included or not"
   ]
  },
  {
   "cell_type": "code",
   "execution_count": null,
   "id": "7388099c",
   "metadata": {},
   "outputs": [
    {
     "data": {
      "text/plain": [
       "[[], [2], [1], [1, 2]]"
      ]
     },
     "execution_count": 4,
     "metadata": {},
     "output_type": "execute_result"
    }
   ],
   "source": [
    "def power_set(arr, index=0, current=[]):\n",
    "    if index == len(arr):\n",
    "        return [current]\n",
    "    temp = power_set(arr, index+1, current)\n",
    "    return temp + power_set(arr, index+1, current+[arr[index]])\n",
    "\n",
    "power_set([1, 2])"
   ]
  }
 ],
 "metadata": {
  "kernelspec": {
   "display_name": "Python 3",
   "language": "python",
   "name": "python3"
  },
  "language_info": {
   "codemirror_mode": {
    "name": "ipython",
    "version": 3
   },
   "file_extension": ".py",
   "mimetype": "text/x-python",
   "name": "python",
   "nbconvert_exporter": "python",
   "pygments_lexer": "ipython3",
   "version": "3.10.6"
  }
 },
 "nbformat": 4,
 "nbformat_minor": 5
}
