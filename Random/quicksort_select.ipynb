{
 "cells": [
  {
   "cell_type": "code",
   "execution_count": null,
   "id": "0bdd2fb7",
   "metadata": {},
   "outputs": [],
   "source": [
    "def partition(arr, start, end):\n",
    "    '''\n",
    "    start and end included\n",
    "    picks the last number and outputs the correct index of the element in the sorted sequence\n",
    "    in the process, the elements striclty less than the last element are brought to the indices \n",
    "    lesser than the correct index value of the last element, basically the correct range\n",
    "    '''\n",
    "    pivot = arr[end]\n",
    "    low = start - 1 # the index where the elements strictly less than the last element end\n",
    "    for current in range(start, end):\n",
    "        if arr[current] < pivot:\n",
    "            low += 1\n",
    "            arr[current], arr[low] = arr[low], arr[current]\n",
    "    arr[low+1], arr[end] = arr[end], arr[low+1]\n",
    "    return low+1\n",
    "def quicksort(arr, start, end):\n",
    "    if start >= end:\n",
    "        return\n",
    "    \n",
    "    pivot_index = partition(arr, start, end)\n",
    "    quicksort(arr, start, pivot_index-1)\n",
    "    quicksort(arr, pivot_index+1, end)\n",
    "    \n",
    "    \n",
    "\n"
   ]
  },
  {
   "cell_type": "code",
   "execution_count": 44,
   "id": "0d2d16a7",
   "metadata": {},
   "outputs": [],
   "source": [
    "import random\n",
    "\n",
    "arr = []\n",
    "n = 10\n",
    "for _ in range(n):\n",
    "    arr.append(random.randint(-100, 100))\n"
   ]
  },
  {
   "cell_type": "code",
   "execution_count": 20,
   "id": "b06cf833",
   "metadata": {},
   "outputs": [
    {
     "data": {
      "text/plain": [
       "[-99, -84, -50, -48, -38, 22, 34, 69, 85, 91]"
      ]
     },
     "execution_count": 20,
     "metadata": {},
     "output_type": "execute_result"
    }
   ],
   "source": [
    "quicksort(arr, 0, len(arr)-1)\n",
    "arr"
   ]
  },
  {
   "cell_type": "code",
   "execution_count": 21,
   "id": "475c0095",
   "metadata": {},
   "outputs": [
    {
     "data": {
      "text/plain": [
       "[1, 1, 1, 1, 2, 4, 5, 6, 10]"
      ]
     },
     "execution_count": 21,
     "metadata": {},
     "output_type": "execute_result"
    }
   ],
   "source": [
    "arr=[1,1,1,1,2,4,5,10, 6]\n",
    "quicksort(arr, 0, len(arr)-1)\n",
    "arr"
   ]
  },
  {
   "cell_type": "markdown",
   "id": "387eff71",
   "metadata": {},
   "source": [
    "### quickselect"
   ]
  },
  {
   "cell_type": "code",
   "execution_count": null,
   "id": "df460388",
   "metadata": {},
   "outputs": [],
   "source": [
    "def partition(arr, start, end):\n",
    "    pivot = arr[end]\n",
    "    low = start -1\n",
    "    for current in range(start, end):\n",
    "        if arr[current] < pivot:\n",
    "            low +=1 \n",
    "            arr[low], arr[current] = arr[current], arr[low]\n",
    "    arr[low+1], arr[end] = arr[end], arr[low+1]\n",
    "    return low + 1\n",
    "\n",
    "def quickselect(arr, start, end, k):\n",
    "    if start==end:\n",
    "        return arr[start]\n",
    "    pivot_index = partition(arr, start, end)\n",
    "    if pivot_index == k:\n",
    "        return arr[k]\n",
    "    elif k < pivot_index:\n",
    "        return quickselect(arr, start, pivot_index-1, k)\n",
    "    else:\n",
    "        return quickselect(arr, pivot_index+1, end, k)\n",
    "    \n"
   ]
  },
  {
   "cell_type": "code",
   "execution_count": 65,
   "id": "edabfe71",
   "metadata": {},
   "outputs": [
    {
     "data": {
      "text/plain": [
       "[-32, 77, -13, -1, -20, -50, -50, 49, -32, 51, 96, 23, -76]"
      ]
     },
     "execution_count": 65,
     "metadata": {},
     "output_type": "execute_result"
    }
   ],
   "source": [
    "arr = []\n",
    "n = 13\n",
    "for _ in range(n):\n",
    "    arr.append(random.randint(-100, 100))\n",
    "\n",
    "arr"
   ]
  },
  {
   "cell_type": "code",
   "execution_count": 66,
   "id": "2e00a700",
   "metadata": {},
   "outputs": [
    {
     "data": {
      "text/plain": [
       "[-76, -50, -50, -32, -32, -20, -13, -1, 23, 49, 51, 77, 96]"
      ]
     },
     "execution_count": 66,
     "metadata": {},
     "output_type": "execute_result"
    }
   ],
   "source": [
    "arr2=arr.copy()\n",
    "quicksort(arr2, 0, len(arr2)-1)\n",
    "arr2"
   ]
  },
  {
   "cell_type": "code",
   "execution_count": 67,
   "id": "fa0962fd",
   "metadata": {},
   "outputs": [
    {
     "data": {
      "text/plain": [
       "-32"
      ]
     },
     "execution_count": 67,
     "metadata": {},
     "output_type": "execute_result"
    }
   ],
   "source": [
    "quickselect(arr, 0, len(arr)-1, 4)"
   ]
  }
 ],
 "metadata": {
  "kernelspec": {
   "display_name": "Python 3",
   "language": "python",
   "name": "python3"
  },
  "language_info": {
   "codemirror_mode": {
    "name": "ipython",
    "version": 3
   },
   "file_extension": ".py",
   "mimetype": "text/x-python",
   "name": "python",
   "nbconvert_exporter": "python",
   "pygments_lexer": "ipython3",
   "version": "3.10.6"
  }
 },
 "nbformat": 4,
 "nbformat_minor": 5
}
